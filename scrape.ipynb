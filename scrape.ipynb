{
 "cells": [
  {
   "cell_type": "code",
   "execution_count": 1,
   "metadata": {},
   "outputs": [],
   "source": [
    "import os\n",
    "import requests\n",
    "\n",
    "from bs4 import BeautifulSoup\n",
    "from selenium import webdriver\n",
    "from selenium.webdriver.common.by import By\n",
    "from selenium.webdriver.common.keys import Keys\n",
    "from selenium.webdriver.chrome.service import Service\n",
    "from webdriver_manager.chrome import ChromeDriverManager"
   ]
  },
  {
   "cell_type": "code",
   "execution_count": 3,
   "metadata": {},
   "outputs": [
    {
     "name": "stdout",
     "output_type": "stream",
     "text": [
      "Content from https://conversebank.am/en/loans/ saved to data/page1.md\n",
      "Content from https://conversebank.am/en/armenian-resident/ saved to data/page2.md\n",
      "Content from https://conversebank.am/en/young-families/ saved to data/page3.md\n"
     ]
    }
   ],
   "source": [
    "if not os.path.exists('data'):\n",
    "    os.makedirs('data')\n",
    "\n",
    "options = webdriver.ChromeOptions()\n",
    "driver = webdriver.Chrome(service=Service(ChromeDriverManager().install()), options=options)\n",
    "\n",
    "urls = [\n",
    "    'https://conversebank.am/en/loans/',\n",
    "    'https://conversebank.am/en/armenian-resident/',\n",
    "    'https://conversebank.am/en/young-families/'\n",
    "]\n",
    "\n",
    "tags_to_scrape = ['a', 'p', 'h1', 'h2', 'h3']\n",
    "\n",
    "for index, url in enumerate(urls):\n",
    "    driver.get(url)\n",
    "    driver.implicitly_wait(10)\n",
    "\n",
    "    content = []\n",
    "    \n",
    "    for tag_name in tags_to_scrape:\n",
    "        elements = driver.find_elements(By.TAG_NAME, tag_name)\n",
    "        for element in elements:\n",
    "            content_text = element.text.strip()\n",
    "            if content_text:\n",
    "                content.append(f\"{content_text}\\n\")\n",
    "    \n",
    "    filename = f'data/page{index + 1}.md'\n",
    "    with open(filename, 'w', encoding='utf-8') as file:\n",
    "        file.write(\"\\n\".join(content))\n",
    "\n",
    "    print(f'Content from {url} saved to {filename}')\n",
    "\n",
    "driver.quit()\n"
   ]
  }
 ],
 "metadata": {
  "kernelspec": {
   "display_name": ".venv",
   "language": "python",
   "name": "python3"
  },
  "language_info": {
   "codemirror_mode": {
    "name": "ipython",
    "version": 3
   },
   "file_extension": ".py",
   "mimetype": "text/x-python",
   "name": "python",
   "nbconvert_exporter": "python",
   "pygments_lexer": "ipython3",
   "version": "3.11.0"
  }
 },
 "nbformat": 4,
 "nbformat_minor": 2
}
